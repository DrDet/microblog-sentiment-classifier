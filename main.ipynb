{
 "cells": [
  {
   "cell_type": "code",
   "execution_count": 1,
   "metadata": {
    "collapsed": true
   },
   "outputs": [],
   "source": [
    "import sys\n",
    "sys.path.append('src')\n",
    "\n",
    "from sklearn.metrics import classification_report\n",
    "import pandas as pd\n",
    "\n",
    "from src.sentiment_classifier import SentimentClassifier\n",
    "\n",
    "\n",
    "def load_dataset(dataset_path):\n",
    "    df = pd.read_csv(dataset_path)\n",
    "    return df[df['Sentiment'] != 'irrelevant'].reset_index(drop=True)\n",
    "\n",
    "\n",
    "train_set_path=\"data/Train.csv\"\n",
    "test_set_path=\"data/Test.csv\"\n",
    "normalization_lexicon_path=\"data/normalization-lexicon/emnlp_dict.txt\"\n",
    "\n",
    "train = load_dataset(train_set_path)\n",
    "test = load_dataset(test_set_path)"
   ]
  },
  {
   "cell_type": "code",
   "execution_count": 2,
   "outputs": [],
   "source": [
    "clf = SentimentClassifier(normalization_lexicon_path, start_day_hour=10)\n",
    "clf.fit(train)"
   ],
   "metadata": {
    "collapsed": false,
    "pycharm": {
     "name": "#%%\n"
    }
   }
  },
  {
   "cell_type": "code",
   "execution_count": 3,
   "outputs": [
    {
     "name": "stdout",
     "output_type": "stream",
     "text": [
      "=========== Sentiment prediction report ===========\n",
      "              precision    recall  f1-score   support\n",
      "\n",
      "    negative       1.00      0.39      0.56        49\n",
      "     neutral       0.74      0.99      0.85       156\n",
      "    positive       0.80      0.25      0.38        32\n",
      "\n",
      "    accuracy                           0.76       237\n",
      "   macro avg       0.85      0.54      0.60       237\n",
      "weighted avg       0.80      0.76      0.72       237\n",
      "\n",
      "=========== Organization prediction report ===========\n",
      "              precision    recall  f1-score   support\n",
      "\n",
      "       apple       0.66      0.98      0.79        93\n",
      "      google       0.97      0.58      0.73        48\n",
      "   microsoft       0.72      0.60      0.66        48\n",
      "     twitter       0.81      0.52      0.63        48\n",
      "\n",
      "    accuracy                           0.73       237\n",
      "   macro avg       0.79      0.67      0.70       237\n",
      "weighted avg       0.77      0.73      0.72       237\n",
      "\n"
     ]
    }
   ],
   "source": [
    "pred_sent, pred_org = clf.predict_sentiment(test), clf.predict_organization(test)\n",
    "print('=========== Sentiment prediction report ===========')\n",
    "print(classification_report(test['Sentiment'], pred_sent))\n",
    "print('=========== Organization prediction report ===========')\n",
    "print(classification_report(test['Topic'], pred_org))"
   ],
   "metadata": {
    "collapsed": false,
    "pycharm": {
     "name": "#%%\n"
    }
   }
  },
  {
   "cell_type": "code",
   "execution_count": 26,
   "outputs": [
    {
     "name": "stdout",
     "output_type": "stream",
     "text": [
      "neutral: 3.02\n",
      "neutral: 2.89\n",
      "negative: 1.18\n",
      "neutral: 3.01\n",
      "positive: 4.94\n",
      "neutral: 2.26\n",
      "negative: 1.16\n",
      "neutral: 3.05\n",
      "neutral: 2.45\n",
      "neutral: 2.65\n"
     ]
    }
   ],
   "source": [
    "correct_idx = []\n",
    "for idx, row in test.iterrows():\n",
    "    if row['Sentiment'] == pred_sent[idx]:\n",
    "        correct_idx.append(idx)\n",
    "correct_test = test.iloc[correct_idx]\n",
    "correct_test = correct_test.sample(10).reset_index(drop=True)\n",
    "rates = clf.predict_sentiment(correct_test, get_rate=True)\n",
    "for idx, row in correct_test.sample(10).iterrows():\n",
    "    print('%s: %.2f' % (row['Sentiment'], rates[idx]))"
   ],
   "metadata": {
    "collapsed": false,
    "pycharm": {
     "name": "#%%\n"
    }
   }
  },
  {
   "cell_type": "code",
   "execution_count": null,
   "outputs": [],
   "source": [],
   "metadata": {
    "collapsed": false,
    "pycharm": {
     "name": "#%%\n"
    }
   }
  }
 ],
 "metadata": {
  "kernelspec": {
   "display_name": "Python 3",
   "language": "python",
   "name": "python3"
  },
  "language_info": {
   "codemirror_mode": {
    "name": "ipython",
    "version": 2
   },
   "file_extension": ".py",
   "mimetype": "text/x-python",
   "name": "python",
   "nbconvert_exporter": "python",
   "pygments_lexer": "ipython2",
   "version": "2.7.6"
  }
 },
 "nbformat": 4,
 "nbformat_minor": 0
}